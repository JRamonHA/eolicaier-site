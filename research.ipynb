{
  "cells": [
    {
      "cell_type": "raw",
      "metadata": {},
      "source": [
        "---\n",
        "title: Research\n",
        "echo: false\n",
        "section-divs: false\n",
        "keep-md: true\n",
        "format: html\n",
        "---"
      ],
      "id": "42eeb9d8"
    },
    {
      "cell_type": "markdown",
      "metadata": {},
      "source": [
        "## Título"
      ],
      "id": "07daa339"
    }
  ],
  "metadata": {
    "kernelspec": {
      "name": "python3",
      "language": "python",
      "display_name": "Python 3 (ipykernel)"
    }
  },
  "nbformat": 4,
  "nbformat_minor": 5
}